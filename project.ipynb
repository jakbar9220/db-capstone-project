{
 "cells": [
  {
   "cell_type": "code",
   "execution_count": 1,
   "metadata": {},
   "outputs": [],
   "source": [
    "import mysql.connector as connector\n",
    "connection = connector.connect(user = \"root\", password = \"root\",db = \"littlelemondb\")"
   ]
  },
  {
   "cell_type": "code",
   "execution_count": 2,
   "metadata": {},
   "outputs": [
    {
     "name": "stdout",
     "output_type": "stream",
     "text": [
      "[('bookings',), ('customers',), ('menu',), ('menu_items',), ('order_delivery_status',), ('orders',), ('ordersview',), ('staff',)]\n"
     ]
    }
   ],
   "source": [
    "cursor = connection.cursor()\n",
    "show_tables_query = \"SHOW tables\" \n",
    "cursor.execute(show_tables_query)\n",
    "results = cursor.fetchall()\n",
    "print(results)"
   ]
  },
  {
   "cell_type": "markdown",
   "metadata": {},
   "source": [
    "GetMaxQuantity() Procedure"
   ]
  },
  {
   "cell_type": "code",
   "execution_count": 7,
   "metadata": {},
   "outputs": [
    {
     "name": "stdout",
     "output_type": "stream",
     "text": [
      "None\n"
     ]
    }
   ],
   "source": [
    "# GetMaxQuantity() Procedure\n",
    "query = \"\"\"\n",
    "        CREATE PROCEDURE GetMaxQuantity()\n",
    "        BEGIN\n",
    "            DECLARE maxQuantity INT;\n",
    "\n",
    "            -- Find the maximum order quantity\n",
    "            SELECT MAX(Quantity) INTO maxQuantity FROM Orders;\n",
    "\n",
    "            -- Display the result\n",
    "            SELECT maxQuantity AS 'Max Quantity in Order';\n",
    "\n",
    "        END;\n",
    "    \"\"\"\n",
    "\n",
    "# create procedure\n",
    "# cursor.execute(query)\n",
    "\n",
    "# call procedure\n",
    "cursor.callproc('GetMaxQuantity')\n",
    "\n",
    "# Fetch the result\n",
    "result = cursor.fetchone()\n",
    "print(result)"
   ]
  },
  {
   "cell_type": "markdown",
   "metadata": {},
   "source": [
    "ManageBooking() procedure "
   ]
  },
  {
   "cell_type": "code",
   "execution_count": 8,
   "metadata": {},
   "outputs": [],
   "source": [
    "# ManageBooking() procedure \n",
    "query = \"\"\"\n",
    "        CREATE PROCEDURE CheckBooking(IN p_BookingDate DATE, IN p_TableNumber INT)\n",
    "        BEGIN\n",
    "            DECLARE tableStatus INT DEFAULT 0;\n",
    "\n",
    "            -- Check if the table is already booked on the specified date\n",
    "            SELECT COUNT(*) INTO tableStatus\n",
    "            FROM Bookings\n",
    "            WHERE booking_date = p_BookingDate AND table_no = p_TableNumber;\n",
    "\n",
    "            -- Provide the output based on the table status\n",
    "            IF tableStatus > 0 THEN\n",
    "                SELECT CONCAT('Table ', p_TableNumber, ' is already booked.') AS Result;\n",
    "            ELSE\n",
    "                SELECT CONCAT('Table ', p_TableNumber, ' is available for booking.') AS Result;\n",
    "            END IF;\n",
    "        END\n",
    "    \"\"\"\n",
    "\n",
    "# create procedure\n",
    "# cursor.execute(query)\n",
    "\n",
    "# Call the stored procedure\n",
    "cursor.callproc('CheckBooking', ('2022-12-25', 5))\n",
    "\n",
    "# Display the result\n",
    "result = cursor.fetchone()\n",
    "print(result[0])"
   ]
  },
  {
   "cell_type": "markdown",
   "metadata": {},
   "source": [
    "UpdateBooking() procedure"
   ]
  },
  {
   "cell_type": "code",
   "execution_count": 9,
   "metadata": {},
   "outputs": [],
   "source": [
    "# UpdateBooking() procedure\n",
    "query = \"\"\"\n",
    "        CREATE PROCEDURE UpdateBooking(\n",
    "            IN p_BookingID INT,\n",
    "            IN p_BookingDate DATE\n",
    "        )\n",
    "        BEGIN\n",
    "            -- Update the booking date for the specified booking ID\n",
    "            UPDATE bookings\n",
    "            SET booking_date = p_BookingDate\n",
    "            WHERE booking_id = p_BookingID;\n",
    "\n",
    "            IF ROW_COUNT() > 0 THEN\n",
    "                SELECT CONCAT('Booking ID ', p_BookingID, ' updated successfully.') AS Result;\n",
    "            ELSE\n",
    "                SELECT CONCAT('Booking ID ', p_BookingID, ' not found. No changes made.') AS Result;\n",
    "            END IF\n",
    "        END;\n",
    "    \"\"\"\n",
    "\n",
    "# create procedure\n",
    "# cursor.execute(query)\n",
    "\n",
    "# Call the stored procedure\n",
    "cursor.callproc('UpdateBooking', (5, '2022-12-25'))\n",
    "\n",
    "# Display the result\n",
    "result = cursor.fetchone()\n",
    "print(result[0])"
   ]
  },
  {
   "cell_type": "markdown",
   "metadata": {},
   "source": [
    "AddBooking() procedure"
   ]
  },
  {
   "cell_type": "code",
   "execution_count": 10,
   "metadata": {},
   "outputs": [],
   "source": [
    "# AddBooking() procedure\n",
    "query = \"\"\"\n",
    "        CREATE PROCEDURE AddBooking(\n",
    "            IN p_BookingID INT,\n",
    "            IN p_CustomerID INT,\n",
    "            IN p_BookingDate DATE,\n",
    "            IN p_TableNumber INT\n",
    "        )\n",
    "        BEGIN\n",
    "            -- Add a new booking record\n",
    "            INSERT INTO Bookings (booking_Id, customer_id, booking_date, table_no)\n",
    "            VALUES (p_BookingID, p_CustomerID, p_BookingDate, p_TableNumber);\n",
    "\n",
    "            SELECT CONCAT('New booking added') AS Confirmation;\n",
    "        END\n",
    "    \"\"\"\n",
    "\n",
    "# create procedure\n",
    "# cursor.execute(query)\n",
    "\n",
    "# Call the stored procedure\n",
    "cursor.callproc('AddBooking', (1, 2, '2022-12-25', 5))\n",
    "\n",
    "# Display the result\n",
    "result = cursor.fetchone()\n",
    "print(result[0])"
   ]
  },
  {
   "cell_type": "markdown",
   "metadata": {},
   "source": [
    "CancelBooking() procedure"
   ]
  },
  {
   "cell_type": "code",
   "execution_count": 11,
   "metadata": {},
   "outputs": [],
   "source": [
    "# CancelBooking() procedure\n",
    "query = \"\"\"\n",
    "        CREATE PROCEDURE CancelBooking(\n",
    "            IN p_BookingID INT\n",
    "        )\n",
    "        BEGIN\n",
    "            DECLARE rowsAffected INT;\n",
    "\n",
    "            -- Delete the booking with the specified booking ID\n",
    "            DELETE FROM Bookings\n",
    "            WHERE booking_id = p_BookingID;\n",
    "\n",
    "            -- Get the number of rows affected by the DELETE statement\n",
    "            SELECT ROW_COUNT() INTO rowsAffected;\n",
    "\n",
    "            IF rowsAffected > 0 THEN\n",
    "                SELECT CONCAT('Booking ID ', p_BookingID, ' cancelled successfully.') AS Confirmation;\n",
    "            ELSE\n",
    "                SELECT CONCAT('Booking ID ', p_BookingID, ' not found. No changes made.') AS Confirmation;\n",
    "            END IF\n",
    "        END;\n",
    "    \"\"\"\n",
    "\n",
    "# create procedure\n",
    "# cursor.execute(query)\n",
    "\n",
    "# Call the stored procedure\n",
    "cursor.callproc('CancelBooking', (5))\n",
    "\n",
    "# Display the result\n",
    "result = cursor.fetchone()\n",
    "print(result[0])"
   ]
  },
  {
   "cell_type": "code",
   "execution_count": null,
   "metadata": {},
   "outputs": [],
   "source": []
  }
 ],
 "metadata": {
  "kernelspec": {
   "display_name": "venv_meta_db_engineer",
   "language": "python",
   "name": "python3"
  },
  "language_info": {
   "codemirror_mode": {
    "name": "ipython",
    "version": 3
   },
   "file_extension": ".py",
   "mimetype": "text/x-python",
   "name": "python",
   "nbconvert_exporter": "python",
   "pygments_lexer": "ipython3",
   "version": "3.12.1"
  }
 },
 "nbformat": 4,
 "nbformat_minor": 2
}
